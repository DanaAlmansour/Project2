{
 "cells": [
  {
   "cell_type": "code",
   "execution_count": 50,
   "metadata": {},
   "outputs": [
    {
     "name": "stdout",
     "output_type": "stream",
     "text": [
      "/Users/danaalmansour\n"
     ]
    }
   ],
   "source": [
    "cd"
   ]
  },
  {
   "cell_type": "code",
   "execution_count": 51,
   "metadata": {},
   "outputs": [
    {
     "name": "stdout",
     "output_type": "stream",
     "text": [
      "/Users/danaalmansour/Desktop\n"
     ]
    }
   ],
   "source": [
    "cd desktop"
   ]
  },
  {
   "cell_type": "code",
   "execution_count": 52,
   "metadata": {},
   "outputs": [
    {
     "name": "stdout",
     "output_type": "stream",
     "text": [
      "\u001b[34m625hw\u001b[m\u001b[m/\r\n",
      "627 HW6.xlsx\r\n",
      "\u001b[34m701\u001b[m\u001b[m/\r\n",
      "Applied Numerical Analysis.pdf\r\n",
      "CPE 625_HW01.pdf\r\n",
      "CPE 625_HW02.pdf\r\n",
      "CPE 625_HW03.pdf\r\n",
      "CPE625_Dana_Almansour_HW4 (1).xlsx\r\n",
      "CPE625_HW4.pdf\r\n",
      "CPE625_HW5.pdf\r\n",
      "CPE625_HW6.pdf\r\n",
      "CPE625_HW7.pdf\r\n",
      "Dana.odt\r\n",
      "Dragons tickets.pdf\r\n",
      "EECS_HW1_DataSet1 - Jupyter Notebook.pdf\r\n",
      "EECS_HW1_DataSet2 - Jupyter Notebook.pdf\r\n",
      "\u001b[34mKU documents\u001b[m\u001b[m/\r\n",
      "Metalica tickets.pdf\r\n",
      "\u001b[34mQ3\u001b[m\u001b[m/\r\n",
      "Screen Shot 2020-09-14 at 7.32.43 PM.png\r\n",
      "Screen Shot 2020-09-15 at 5.05.53 PM.png\r\n",
      "Screen Shot 2020-09-15 at 6.05.25 PM.png\r\n",
      "Screen Shot 2020-09-15 at 6.31.09 PM.png\r\n",
      "Screen Shot 2020-09-17 at 11.55.27 PM.pdf\r\n",
      "Screen Shot 2020-09-17 at 6.03.45 PM.png\r\n",
      "Screen Shot 2020-09-19 at 8.02.36 PM.png\r\n",
      "Screen Shot 2020-09-19 at 8.13.47 PM.png\r\n",
      "Screen Shot 2020-09-23 at 11.31.54 PM.png\r\n",
      "Screen Shot 2020-09-23 at 8.32.04 PM.png\r\n",
      "Screen Shot 2020-09-23 at 8.32.14 PM.png\r\n",
      "Screen Shot 2020-09-23 at 8.32.24 PM.png\r\n",
      "Screen Shot 2020-09-23 at 8.32.34 PM.png\r\n",
      "Screen Shot 2020-09-23 at 8.32.47 PM.png\r\n",
      "Screen Shot 2020-09-24 at 12.07.26 AM.png\r\n",
      "Screen Shot 2020-09-24 at 2.30.15 AM.png\r\n",
      "Screen Shot 2020-09-26 at 1.22.36 AM.png\r\n",
      "\u001b[34mShakespear\u001b[m\u001b[m/\r\n",
      "\u001b[31mShakespeare_data.csv\u001b[m\u001b[m*\r\n",
      "\u001b[34mchegg\u001b[m\u001b[m/\r\n",
      "dana(1).ipynb\r\n",
      "f198e1b85fe17f289ef329c357b990c3_353b1b4ee6f7616d44d3fc7adccdab91.ipynb\r\n",
      "hw3.doc\r\n",
      "\u001b[34mlawrence\u001b[m\u001b[m/\r\n",
      "\u001b[34mscreen shots\u001b[m\u001b[m/\r\n",
      "zoom_0.mp4\r\n",
      "~$#7 cheet sheat.docx\r\n",
      "~$5 hw 4 Q2.docx\r\n",
      "~$7 cheet sheat.docx\r\n",
      "~$C&PE527_PROJECT2_Almansour_Dana.xlsx\r\n",
      "~$CPE121_20_EMyers.xlsm\r\n",
      "~$CPE121_HW01_dalmansour.xlsx\r\n",
      "~$CPE121_HW03_dalmansour.xlsx\r\n",
      "~$CPE121_HW07_DALMANSOUR.xlsm\r\n",
      "~$CPE121_HW09_dalmansour.xlsm\r\n",
      "~$CPE121_PROJECT1_DALMANSOUR 2.xlsx\r\n",
      "~$CPE121_PROJECT2_dalmansour.xlsm\r\n",
      "~$CPE121_Project1_dmanzi.xlsx\r\n",
      "~$CPE121__Project2_dalmansour1.xlsm\r\n",
      "~$CPE527_PROJECT2_AAli.xlsx\r\n",
      "~$Dana Excel hw.xlsx\r\n",
      "~$Dana.odt\r\n",
      "~$E Project.docx\r\n",
      "~$GL 101 RESPONSE 2.docx\r\n",
      "~$GTS.docx\r\n",
      "~$HW13.docx\r\n",
      "~$MATH1.docx\r\n",
      "~$Song.docx\r\n",
      "~$actice memo.docx\r\n",
      "~$ateboard pics.docx\r\n",
      "~$b Report #1.docx\r\n",
      "~$creasing atmospheric CO2 on clouds causes marine stratus clouds become more and more unstable until they disappear completely.docx\r\n",
      "~$cs_files_2012_08_ECS-Example-Resume-BSE.docx\r\n",
      "~$devesual test sheet.docx\r\n",
      "~$e you FRACKING kidding me.docx\r\n",
      "~$eat sheet for twst 1 cpe 522.docx\r\n",
      "~$eewriting.docx\r\n",
      "~$fshore Exploration 3.docx\r\n",
      "~$geol shit.xlsx\r\n",
      "~$hw3 res.xlsx\r\n",
      "~$illing project.docx\r\n",
      "~$na Almansour AAAS paper 1.docx\r\n",
      "~$na Almansour RESUME first.docx\r\n",
      "~$na Almansour Resume.docx\r\n",
      "~$na Almansour draaft.docx\r\n",
      "~$na Almansour essay                                                                                                                     Almansour.docx\r\n",
      "~$na Almansour second draftt.docx\r\n",
      "~$na Almansour_Paper#5.docx\r\n",
      "~$nal Project Discreption.docx\r\n",
      "~$rcent Change.docx\r\n",
      "~$rst draft .docx\r\n",
      "~$slims Seek New Burial Ground Article.docx\r\n",
      "~$sx exam 1 cheat sheet.docx\r\n",
      "~$tRevDraft (2).docx\r\n",
      "~$thout inquiry.docx\r\n",
      "~$urnal5.docx\r\n",
      "~$ver letter first draft.docx\r\n",
      "~$wer point cheet sheet.docx\r\n"
     ]
    }
   ],
   "source": [
    "ls"
   ]
  },
  {
   "cell_type": "code",
   "execution_count": 53,
   "metadata": {},
   "outputs": [
    {
     "name": "stdout",
     "output_type": "stream",
     "text": [
      "[Errno 2] No such file or directory: 'desktop/shakespear'\n",
      "/Users/danaalmansour/Desktop\n"
     ]
    }
   ],
   "source": [
    "cd desktop/shakespear"
   ]
  },
  {
   "cell_type": "code",
   "execution_count": 54,
   "metadata": {},
   "outputs": [
    {
     "name": "stdout",
     "output_type": "stream",
     "text": [
      "\u001b[34m625hw\u001b[m\u001b[m/\r\n",
      "627 HW6.xlsx\r\n",
      "\u001b[34m701\u001b[m\u001b[m/\r\n",
      "Applied Numerical Analysis.pdf\r\n",
      "CPE 625_HW01.pdf\r\n",
      "CPE 625_HW02.pdf\r\n",
      "CPE 625_HW03.pdf\r\n",
      "CPE625_Dana_Almansour_HW4 (1).xlsx\r\n",
      "CPE625_HW4.pdf\r\n",
      "CPE625_HW5.pdf\r\n",
      "CPE625_HW6.pdf\r\n",
      "CPE625_HW7.pdf\r\n",
      "Dana.odt\r\n",
      "Dragons tickets.pdf\r\n",
      "EECS_HW1_DataSet1 - Jupyter Notebook.pdf\r\n",
      "EECS_HW1_DataSet2 - Jupyter Notebook.pdf\r\n",
      "\u001b[34mKU documents\u001b[m\u001b[m/\r\n",
      "Metalica tickets.pdf\r\n",
      "\u001b[34mQ3\u001b[m\u001b[m/\r\n",
      "Screen Shot 2020-09-14 at 7.32.43 PM.png\r\n",
      "Screen Shot 2020-09-15 at 5.05.53 PM.png\r\n",
      "Screen Shot 2020-09-15 at 6.05.25 PM.png\r\n",
      "Screen Shot 2020-09-15 at 6.31.09 PM.png\r\n",
      "Screen Shot 2020-09-17 at 11.55.27 PM.pdf\r\n",
      "Screen Shot 2020-09-17 at 6.03.45 PM.png\r\n",
      "Screen Shot 2020-09-19 at 8.02.36 PM.png\r\n",
      "Screen Shot 2020-09-19 at 8.13.47 PM.png\r\n",
      "Screen Shot 2020-09-23 at 11.31.54 PM.png\r\n",
      "Screen Shot 2020-09-23 at 8.32.04 PM.png\r\n",
      "Screen Shot 2020-09-23 at 8.32.14 PM.png\r\n",
      "Screen Shot 2020-09-23 at 8.32.24 PM.png\r\n",
      "Screen Shot 2020-09-23 at 8.32.34 PM.png\r\n",
      "Screen Shot 2020-09-23 at 8.32.47 PM.png\r\n",
      "Screen Shot 2020-09-24 at 12.07.26 AM.png\r\n",
      "Screen Shot 2020-09-24 at 2.30.15 AM.png\r\n",
      "Screen Shot 2020-09-26 at 1.22.36 AM.png\r\n",
      "\u001b[34mShakespear\u001b[m\u001b[m/\r\n",
      "\u001b[31mShakespeare_data.csv\u001b[m\u001b[m*\r\n",
      "\u001b[34mchegg\u001b[m\u001b[m/\r\n",
      "dana(1).ipynb\r\n",
      "f198e1b85fe17f289ef329c357b990c3_353b1b4ee6f7616d44d3fc7adccdab91.ipynb\r\n",
      "hw3.doc\r\n",
      "\u001b[34mlawrence\u001b[m\u001b[m/\r\n",
      "\u001b[34mscreen shots\u001b[m\u001b[m/\r\n",
      "zoom_0.mp4\r\n",
      "~$#7 cheet sheat.docx\r\n",
      "~$5 hw 4 Q2.docx\r\n",
      "~$7 cheet sheat.docx\r\n",
      "~$C&PE527_PROJECT2_Almansour_Dana.xlsx\r\n",
      "~$CPE121_20_EMyers.xlsm\r\n",
      "~$CPE121_HW01_dalmansour.xlsx\r\n",
      "~$CPE121_HW03_dalmansour.xlsx\r\n",
      "~$CPE121_HW07_DALMANSOUR.xlsm\r\n",
      "~$CPE121_HW09_dalmansour.xlsm\r\n",
      "~$CPE121_PROJECT1_DALMANSOUR 2.xlsx\r\n",
      "~$CPE121_PROJECT2_dalmansour.xlsm\r\n",
      "~$CPE121_Project1_dmanzi.xlsx\r\n",
      "~$CPE121__Project2_dalmansour1.xlsm\r\n",
      "~$CPE527_PROJECT2_AAli.xlsx\r\n",
      "~$Dana Excel hw.xlsx\r\n",
      "~$Dana.odt\r\n",
      "~$E Project.docx\r\n",
      "~$GL 101 RESPONSE 2.docx\r\n",
      "~$GTS.docx\r\n",
      "~$HW13.docx\r\n",
      "~$MATH1.docx\r\n",
      "~$Song.docx\r\n",
      "~$actice memo.docx\r\n",
      "~$ateboard pics.docx\r\n",
      "~$b Report #1.docx\r\n",
      "~$creasing atmospheric CO2 on clouds causes marine stratus clouds become more and more unstable until they disappear completely.docx\r\n",
      "~$cs_files_2012_08_ECS-Example-Resume-BSE.docx\r\n",
      "~$devesual test sheet.docx\r\n",
      "~$e you FRACKING kidding me.docx\r\n",
      "~$eat sheet for twst 1 cpe 522.docx\r\n",
      "~$eewriting.docx\r\n",
      "~$fshore Exploration 3.docx\r\n",
      "~$geol shit.xlsx\r\n",
      "~$hw3 res.xlsx\r\n",
      "~$illing project.docx\r\n",
      "~$na Almansour AAAS paper 1.docx\r\n",
      "~$na Almansour RESUME first.docx\r\n",
      "~$na Almansour Resume.docx\r\n",
      "~$na Almansour draaft.docx\r\n",
      "~$na Almansour essay                                                                                                                     Almansour.docx\r\n",
      "~$na Almansour second draftt.docx\r\n",
      "~$na Almansour_Paper#5.docx\r\n",
      "~$nal Project Discreption.docx\r\n",
      "~$rcent Change.docx\r\n",
      "~$rst draft .docx\r\n",
      "~$slims Seek New Burial Ground Article.docx\r\n",
      "~$sx exam 1 cheat sheet.docx\r\n",
      "~$tRevDraft (2).docx\r\n",
      "~$thout inquiry.docx\r\n",
      "~$urnal5.docx\r\n",
      "~$ver letter first draft.docx\r\n",
      "~$wer point cheet sheet.docx\r\n"
     ]
    }
   ],
   "source": [
    "ls"
   ]
  },
  {
   "cell_type": "code",
   "execution_count": 55,
   "metadata": {},
   "outputs": [],
   "source": [
    "# csv - comma separated values\n",
    "# pandas, numpy, matplotlib, seaborn"
   ]
  },
  {
   "cell_type": "code",
   "execution_count": 56,
   "metadata": {},
   "outputs": [],
   "source": [
    "import pandas as pd\n",
    "import numpy as np\n",
    "import matplotlib.pyplot as plt\n",
    "import seaborn as sns"
   ]
  },
  {
   "cell_type": "code",
   "execution_count": 57,
   "metadata": {},
   "outputs": [],
   "source": [
    "\n",
    "data_csv = pd.read_csv('Shakespeare_data.csv') "
   ]
  },
  {
   "cell_type": "code",
   "execution_count": 58,
   "metadata": {},
   "outputs": [
    {
     "data": {
      "text/html": [
       "<div>\n",
       "<style scoped>\n",
       "    .dataframe tbody tr th:only-of-type {\n",
       "        vertical-align: middle;\n",
       "    }\n",
       "\n",
       "    .dataframe tbody tr th {\n",
       "        vertical-align: top;\n",
       "    }\n",
       "\n",
       "    .dataframe thead th {\n",
       "        text-align: right;\n",
       "    }\n",
       "</style>\n",
       "<table border=\"1\" class=\"dataframe\">\n",
       "  <thead>\n",
       "    <tr style=\"text-align: right;\">\n",
       "      <th></th>\n",
       "      <th>Dataline</th>\n",
       "      <th>Play</th>\n",
       "      <th>PlayerLinenumber</th>\n",
       "      <th>ActSceneLine</th>\n",
       "      <th>Player</th>\n",
       "      <th>PlayerLine</th>\n",
       "    </tr>\n",
       "  </thead>\n",
       "  <tbody>\n",
       "    <tr>\n",
       "      <th>110295</th>\n",
       "      <td>110296</td>\n",
       "      <td>A Winters Tale</td>\n",
       "      <td>131.0</td>\n",
       "      <td>4.4.503</td>\n",
       "      <td>Shepherd</td>\n",
       "      <td>I cannot speak, nor think</td>\n",
       "    </tr>\n",
       "    <tr>\n",
       "      <th>71019</th>\n",
       "      <td>71020</td>\n",
       "      <td>Much Ado about nothing</td>\n",
       "      <td>30.0</td>\n",
       "      <td>4.1.67</td>\n",
       "      <td>BENEDICK</td>\n",
       "      <td>This looks not like a nuptial.</td>\n",
       "    </tr>\n",
       "    <tr>\n",
       "      <th>19197</th>\n",
       "      <td>19198</td>\n",
       "      <td>Antony and Cleopatra</td>\n",
       "      <td>5.0</td>\n",
       "      <td>2.1.14</td>\n",
       "      <td>POMPEY</td>\n",
       "      <td>Says it will come to the full. Mark Antony</td>\n",
       "    </tr>\n",
       "    <tr>\n",
       "      <th>73968</th>\n",
       "      <td>73969</td>\n",
       "      <td>Othello</td>\n",
       "      <td>104.0</td>\n",
       "      <td>3.3.325</td>\n",
       "      <td>EMILIA</td>\n",
       "      <td>I am glad I have found this napkin:</td>\n",
       "    </tr>\n",
       "    <tr>\n",
       "      <th>50426</th>\n",
       "      <td>50427</td>\n",
       "      <td>King Lear</td>\n",
       "      <td>8.0</td>\n",
       "      <td>2.4.17</td>\n",
       "      <td>KENT</td>\n",
       "      <td>It is both he and she,</td>\n",
       "    </tr>\n",
       "  </tbody>\n",
       "</table>\n",
       "</div>"
      ],
      "text/plain": [
       "        Dataline                    Play  PlayerLinenumber ActSceneLine  \\\n",
       "110295    110296          A Winters Tale             131.0      4.4.503   \n",
       "71019      71020  Much Ado about nothing              30.0       4.1.67   \n",
       "19197      19198    Antony and Cleopatra               5.0       2.1.14   \n",
       "73968      73969                 Othello             104.0      3.3.325   \n",
       "50426      50427               King Lear               8.0       2.4.17   \n",
       "\n",
       "          Player                                  PlayerLine  \n",
       "110295  Shepherd                   I cannot speak, nor think  \n",
       "71019   BENEDICK              This looks not like a nuptial.  \n",
       "19197     POMPEY  Says it will come to the full. Mark Antony  \n",
       "73968     EMILIA         I am glad I have found this napkin:  \n",
       "50426       KENT                      It is both he and she,  "
      ]
     },
     "execution_count": 58,
     "metadata": {},
     "output_type": "execute_result"
    }
   ],
   "source": [
    "data_csv.sample(5)"
   ]
  },
  {
   "cell_type": "code",
   "execution_count": 59,
   "metadata": {},
   "outputs": [],
   "source": [
    "#feature engineering - it means building new features by applying operations on current one, or maybe adding a new feature\n",
    "# exploratroy data analysis (EDA) - studying the dataset, like by plotting charts and\n",
    "#  drawing inferences about the data"
   ]
  },
  {
   "cell_type": "code",
   "execution_count": 60,
   "metadata": {},
   "outputs": [
    {
     "data": {
      "text/plain": [
       "Dataline              int64\n",
       "Play                 object\n",
       "PlayerLinenumber    float64\n",
       "ActSceneLine         object\n",
       "Player               object\n",
       "PlayerLine           object\n",
       "dtype: object"
      ]
     },
     "execution_count": 60,
     "metadata": {},
     "output_type": "execute_result"
    }
   ],
   "source": [
    "data_csv.dtypes"
   ]
  },
  {
   "cell_type": "code",
   "execution_count": 61,
   "metadata": {},
   "outputs": [
    {
     "data": {
      "text/html": [
       "<div>\n",
       "<style scoped>\n",
       "    .dataframe tbody tr th:only-of-type {\n",
       "        vertical-align: middle;\n",
       "    }\n",
       "\n",
       "    .dataframe tbody tr th {\n",
       "        vertical-align: top;\n",
       "    }\n",
       "\n",
       "    .dataframe thead th {\n",
       "        text-align: right;\n",
       "    }\n",
       "</style>\n",
       "<table border=\"1\" class=\"dataframe\">\n",
       "  <thead>\n",
       "    <tr style=\"text-align: right;\">\n",
       "      <th></th>\n",
       "      <th>Dataline</th>\n",
       "      <th>Play</th>\n",
       "      <th>PlayerLinenumber</th>\n",
       "      <th>ActSceneLine</th>\n",
       "      <th>Player</th>\n",
       "      <th>PlayerLine</th>\n",
       "    </tr>\n",
       "  </thead>\n",
       "  <tbody>\n",
       "    <tr>\n",
       "      <th>0</th>\n",
       "      <td>1</td>\n",
       "      <td>Henry IV</td>\n",
       "      <td>NaN</td>\n",
       "      <td>NaN</td>\n",
       "      <td>NaN</td>\n",
       "      <td>ACT I</td>\n",
       "    </tr>\n",
       "    <tr>\n",
       "      <th>1</th>\n",
       "      <td>2</td>\n",
       "      <td>Henry IV</td>\n",
       "      <td>NaN</td>\n",
       "      <td>NaN</td>\n",
       "      <td>NaN</td>\n",
       "      <td>SCENE I. London. The palace.</td>\n",
       "    </tr>\n",
       "    <tr>\n",
       "      <th>2</th>\n",
       "      <td>3</td>\n",
       "      <td>Henry IV</td>\n",
       "      <td>NaN</td>\n",
       "      <td>NaN</td>\n",
       "      <td>NaN</td>\n",
       "      <td>Enter KING HENRY, LORD JOHN OF LANCASTER, the ...</td>\n",
       "    </tr>\n",
       "    <tr>\n",
       "      <th>3</th>\n",
       "      <td>4</td>\n",
       "      <td>Henry IV</td>\n",
       "      <td>1.0</td>\n",
       "      <td>1.1.1</td>\n",
       "      <td>KING HENRY IV</td>\n",
       "      <td>So shaken as we are, so wan with care,</td>\n",
       "    </tr>\n",
       "    <tr>\n",
       "      <th>4</th>\n",
       "      <td>5</td>\n",
       "      <td>Henry IV</td>\n",
       "      <td>1.0</td>\n",
       "      <td>1.1.2</td>\n",
       "      <td>KING HENRY IV</td>\n",
       "      <td>Find we a time for frighted peace to pant,</td>\n",
       "    </tr>\n",
       "  </tbody>\n",
       "</table>\n",
       "</div>"
      ],
      "text/plain": [
       "   Dataline      Play  PlayerLinenumber ActSceneLine         Player  \\\n",
       "0         1  Henry IV               NaN          NaN            NaN   \n",
       "1         2  Henry IV               NaN          NaN            NaN   \n",
       "2         3  Henry IV               NaN          NaN            NaN   \n",
       "3         4  Henry IV               1.0        1.1.1  KING HENRY IV   \n",
       "4         5  Henry IV               1.0        1.1.2  KING HENRY IV   \n",
       "\n",
       "                                          PlayerLine  \n",
       "0                                              ACT I  \n",
       "1                       SCENE I. London. The palace.  \n",
       "2  Enter KING HENRY, LORD JOHN OF LANCASTER, the ...  \n",
       "3             So shaken as we are, so wan with care,  \n",
       "4         Find we a time for frighted peace to pant,  "
      ]
     },
     "execution_count": 61,
     "metadata": {},
     "output_type": "execute_result"
    }
   ],
   "source": [
    "data_csv.head()"
   ]
  },
  {
   "cell_type": "code",
   "execution_count": 62,
   "metadata": {},
   "outputs": [
    {
     "data": {
      "text/plain": [
       "Dataline               0\n",
       "Play                   0\n",
       "PlayerLinenumber       3\n",
       "ActSceneLine        6243\n",
       "Player                 7\n",
       "PlayerLine             0\n",
       "dtype: int64"
      ]
     },
     "execution_count": 62,
     "metadata": {},
     "output_type": "execute_result"
    }
   ],
   "source": [
    "data_csv.isna().sum()"
   ]
  },
  {
   "cell_type": "code",
   "execution_count": 63,
   "metadata": {},
   "outputs": [],
   "source": [
    "data_csv['Player'].replace('Other', 'Dana', inplace  = True)"
   ]
  },
  {
   "cell_type": "code",
   "execution_count": 64,
   "metadata": {},
   "outputs": [],
   "source": [
    "data_csv['PlayerLinenumber'] = data_csv['PlayerLinenumber'].fillna(method='bfill')"
   ]
  },
  {
   "cell_type": "code",
   "execution_count": 65,
   "metadata": {},
   "outputs": [
    {
     "data": {
      "text/html": [
       "<div>\n",
       "<style scoped>\n",
       "    .dataframe tbody tr th:only-of-type {\n",
       "        vertical-align: middle;\n",
       "    }\n",
       "\n",
       "    .dataframe tbody tr th {\n",
       "        vertical-align: top;\n",
       "    }\n",
       "\n",
       "    .dataframe thead th {\n",
       "        text-align: right;\n",
       "    }\n",
       "</style>\n",
       "<table border=\"1\" class=\"dataframe\">\n",
       "  <thead>\n",
       "    <tr style=\"text-align: right;\">\n",
       "      <th></th>\n",
       "      <th>Dataline</th>\n",
       "      <th>Play</th>\n",
       "      <th>PlayerLinenumber</th>\n",
       "      <th>ActSceneLine</th>\n",
       "      <th>Player</th>\n",
       "      <th>PlayerLine</th>\n",
       "    </tr>\n",
       "  </thead>\n",
       "  <tbody>\n",
       "    <tr>\n",
       "      <th>0</th>\n",
       "      <td>1</td>\n",
       "      <td>Henry IV</td>\n",
       "      <td>1.0</td>\n",
       "      <td>NaN</td>\n",
       "      <td>NaN</td>\n",
       "      <td>ACT I</td>\n",
       "    </tr>\n",
       "    <tr>\n",
       "      <th>1</th>\n",
       "      <td>2</td>\n",
       "      <td>Henry IV</td>\n",
       "      <td>1.0</td>\n",
       "      <td>NaN</td>\n",
       "      <td>NaN</td>\n",
       "      <td>SCENE I. London. The palace.</td>\n",
       "    </tr>\n",
       "    <tr>\n",
       "      <th>2</th>\n",
       "      <td>3</td>\n",
       "      <td>Henry IV</td>\n",
       "      <td>1.0</td>\n",
       "      <td>NaN</td>\n",
       "      <td>NaN</td>\n",
       "      <td>Enter KING HENRY, LORD JOHN OF LANCASTER, the ...</td>\n",
       "    </tr>\n",
       "    <tr>\n",
       "      <th>3</th>\n",
       "      <td>4</td>\n",
       "      <td>Henry IV</td>\n",
       "      <td>1.0</td>\n",
       "      <td>1.1.1</td>\n",
       "      <td>KING HENRY IV</td>\n",
       "      <td>So shaken as we are, so wan with care,</td>\n",
       "    </tr>\n",
       "    <tr>\n",
       "      <th>4</th>\n",
       "      <td>5</td>\n",
       "      <td>Henry IV</td>\n",
       "      <td>1.0</td>\n",
       "      <td>1.1.2</td>\n",
       "      <td>KING HENRY IV</td>\n",
       "      <td>Find we a time for frighted peace to pant,</td>\n",
       "    </tr>\n",
       "  </tbody>\n",
       "</table>\n",
       "</div>"
      ],
      "text/plain": [
       "   Dataline      Play  PlayerLinenumber ActSceneLine         Player  \\\n",
       "0         1  Henry IV               1.0          NaN            NaN   \n",
       "1         2  Henry IV               1.0          NaN            NaN   \n",
       "2         3  Henry IV               1.0          NaN            NaN   \n",
       "3         4  Henry IV               1.0        1.1.1  KING HENRY IV   \n",
       "4         5  Henry IV               1.0        1.1.2  KING HENRY IV   \n",
       "\n",
       "                                          PlayerLine  \n",
       "0                                              ACT I  \n",
       "1                       SCENE I. London. The palace.  \n",
       "2  Enter KING HENRY, LORD JOHN OF LANCASTER, the ...  \n",
       "3             So shaken as we are, so wan with care,  \n",
       "4         Find we a time for frighted peace to pant,  "
      ]
     },
     "execution_count": 65,
     "metadata": {},
     "output_type": "execute_result"
    }
   ],
   "source": [
    "data_csv.head()"
   ]
  },
  {
   "cell_type": "code",
   "execution_count": 66,
   "metadata": {},
   "outputs": [
    {
     "data": {
      "text/plain": [
       "7"
      ]
     },
     "execution_count": 66,
     "metadata": {},
     "output_type": "execute_result"
    }
   ],
   "source": [
    "data_csv['Player'].isna().sum()"
   ]
  },
  {
   "cell_type": "code",
   "execution_count": 67,
   "metadata": {},
   "outputs": [],
   "source": [
    "data_csv['Play&PlayerLine'] = data_csv['Play'] + \" \" + data_csv['PlayerLine'] #Feature Engineering "
   ]
  },
  {
   "cell_type": "code",
   "execution_count": 68,
   "metadata": {},
   "outputs": [
    {
     "data": {
      "text/html": [
       "<div>\n",
       "<style scoped>\n",
       "    .dataframe tbody tr th:only-of-type {\n",
       "        vertical-align: middle;\n",
       "    }\n",
       "\n",
       "    .dataframe tbody tr th {\n",
       "        vertical-align: top;\n",
       "    }\n",
       "\n",
       "    .dataframe thead th {\n",
       "        text-align: right;\n",
       "    }\n",
       "</style>\n",
       "<table border=\"1\" class=\"dataframe\">\n",
       "  <thead>\n",
       "    <tr style=\"text-align: right;\">\n",
       "      <th></th>\n",
       "      <th>Dataline</th>\n",
       "      <th>Play</th>\n",
       "      <th>PlayerLinenumber</th>\n",
       "      <th>ActSceneLine</th>\n",
       "      <th>Player</th>\n",
       "      <th>PlayerLine</th>\n",
       "      <th>Play&amp;PlayerLine</th>\n",
       "    </tr>\n",
       "  </thead>\n",
       "  <tbody>\n",
       "    <tr>\n",
       "      <th>0</th>\n",
       "      <td>1</td>\n",
       "      <td>Henry IV</td>\n",
       "      <td>1.0</td>\n",
       "      <td>NaN</td>\n",
       "      <td>NaN</td>\n",
       "      <td>ACT I</td>\n",
       "      <td>Henry IV ACT I</td>\n",
       "    </tr>\n",
       "    <tr>\n",
       "      <th>1</th>\n",
       "      <td>2</td>\n",
       "      <td>Henry IV</td>\n",
       "      <td>1.0</td>\n",
       "      <td>NaN</td>\n",
       "      <td>NaN</td>\n",
       "      <td>SCENE I. London. The palace.</td>\n",
       "      <td>Henry IV SCENE I. London. The palace.</td>\n",
       "    </tr>\n",
       "    <tr>\n",
       "      <th>2</th>\n",
       "      <td>3</td>\n",
       "      <td>Henry IV</td>\n",
       "      <td>1.0</td>\n",
       "      <td>NaN</td>\n",
       "      <td>NaN</td>\n",
       "      <td>Enter KING HENRY, LORD JOHN OF LANCASTER, the ...</td>\n",
       "      <td>Henry IV Enter KING HENRY, LORD JOHN OF LANCAS...</td>\n",
       "    </tr>\n",
       "    <tr>\n",
       "      <th>3</th>\n",
       "      <td>4</td>\n",
       "      <td>Henry IV</td>\n",
       "      <td>1.0</td>\n",
       "      <td>1.1.1</td>\n",
       "      <td>KING HENRY IV</td>\n",
       "      <td>So shaken as we are, so wan with care,</td>\n",
       "      <td>Henry IV So shaken as we are, so wan with care,</td>\n",
       "    </tr>\n",
       "    <tr>\n",
       "      <th>4</th>\n",
       "      <td>5</td>\n",
       "      <td>Henry IV</td>\n",
       "      <td>1.0</td>\n",
       "      <td>1.1.2</td>\n",
       "      <td>KING HENRY IV</td>\n",
       "      <td>Find we a time for frighted peace to pant,</td>\n",
       "      <td>Henry IV Find we a time for frighted peace to ...</td>\n",
       "    </tr>\n",
       "  </tbody>\n",
       "</table>\n",
       "</div>"
      ],
      "text/plain": [
       "   Dataline      Play  PlayerLinenumber ActSceneLine         Player  \\\n",
       "0         1  Henry IV               1.0          NaN            NaN   \n",
       "1         2  Henry IV               1.0          NaN            NaN   \n",
       "2         3  Henry IV               1.0          NaN            NaN   \n",
       "3         4  Henry IV               1.0        1.1.1  KING HENRY IV   \n",
       "4         5  Henry IV               1.0        1.1.2  KING HENRY IV   \n",
       "\n",
       "                                          PlayerLine  \\\n",
       "0                                              ACT I   \n",
       "1                       SCENE I. London. The palace.   \n",
       "2  Enter KING HENRY, LORD JOHN OF LANCASTER, the ...   \n",
       "3             So shaken as we are, so wan with care,   \n",
       "4         Find we a time for frighted peace to pant,   \n",
       "\n",
       "                                     Play&PlayerLine  \n",
       "0                                     Henry IV ACT I  \n",
       "1              Henry IV SCENE I. London. The palace.  \n",
       "2  Henry IV Enter KING HENRY, LORD JOHN OF LANCAS...  \n",
       "3    Henry IV So shaken as we are, so wan with care,  \n",
       "4  Henry IV Find we a time for frighted peace to ...  "
      ]
     },
     "execution_count": 68,
     "metadata": {},
     "output_type": "execute_result"
    }
   ],
   "source": [
    "data_csv.head()"
   ]
  },
  {
   "cell_type": "code",
   "execution_count": 69,
   "metadata": {},
   "outputs": [],
   "source": [
    "data_csv['PlayerLinenumber'].ffill(inplace = True)"
   ]
  },
  {
   "cell_type": "code",
   "execution_count": 70,
   "metadata": {},
   "outputs": [
    {
     "data": {
      "text/html": [
       "<div>\n",
       "<style scoped>\n",
       "    .dataframe tbody tr th:only-of-type {\n",
       "        vertical-align: middle;\n",
       "    }\n",
       "\n",
       "    .dataframe tbody tr th {\n",
       "        vertical-align: top;\n",
       "    }\n",
       "\n",
       "    .dataframe thead th {\n",
       "        text-align: right;\n",
       "    }\n",
       "</style>\n",
       "<table border=\"1\" class=\"dataframe\">\n",
       "  <thead>\n",
       "    <tr style=\"text-align: right;\">\n",
       "      <th></th>\n",
       "      <th>Dataline</th>\n",
       "      <th>Play</th>\n",
       "      <th>PlayerLinenumber</th>\n",
       "      <th>ActSceneLine</th>\n",
       "      <th>Player</th>\n",
       "      <th>PlayerLine</th>\n",
       "      <th>Play&amp;PlayerLine</th>\n",
       "    </tr>\n",
       "  </thead>\n",
       "  <tbody>\n",
       "    <tr>\n",
       "      <th>0</th>\n",
       "      <td>1</td>\n",
       "      <td>Henry IV</td>\n",
       "      <td>1.0</td>\n",
       "      <td>NaN</td>\n",
       "      <td>NaN</td>\n",
       "      <td>ACT I</td>\n",
       "      <td>Henry IV ACT I</td>\n",
       "    </tr>\n",
       "    <tr>\n",
       "      <th>1</th>\n",
       "      <td>2</td>\n",
       "      <td>Henry IV</td>\n",
       "      <td>1.0</td>\n",
       "      <td>NaN</td>\n",
       "      <td>NaN</td>\n",
       "      <td>SCENE I. London. The palace.</td>\n",
       "      <td>Henry IV SCENE I. London. The palace.</td>\n",
       "    </tr>\n",
       "    <tr>\n",
       "      <th>2</th>\n",
       "      <td>3</td>\n",
       "      <td>Henry IV</td>\n",
       "      <td>1.0</td>\n",
       "      <td>NaN</td>\n",
       "      <td>NaN</td>\n",
       "      <td>Enter KING HENRY, LORD JOHN OF LANCASTER, the ...</td>\n",
       "      <td>Henry IV Enter KING HENRY, LORD JOHN OF LANCAS...</td>\n",
       "    </tr>\n",
       "    <tr>\n",
       "      <th>3</th>\n",
       "      <td>4</td>\n",
       "      <td>Henry IV</td>\n",
       "      <td>1.0</td>\n",
       "      <td>1.1.1</td>\n",
       "      <td>KING HENRY IV</td>\n",
       "      <td>So shaken as we are, so wan with care,</td>\n",
       "      <td>Henry IV So shaken as we are, so wan with care,</td>\n",
       "    </tr>\n",
       "    <tr>\n",
       "      <th>4</th>\n",
       "      <td>5</td>\n",
       "      <td>Henry IV</td>\n",
       "      <td>1.0</td>\n",
       "      <td>1.1.2</td>\n",
       "      <td>KING HENRY IV</td>\n",
       "      <td>Find we a time for frighted peace to pant,</td>\n",
       "      <td>Henry IV Find we a time for frighted peace to ...</td>\n",
       "    </tr>\n",
       "  </tbody>\n",
       "</table>\n",
       "</div>"
      ],
      "text/plain": [
       "   Dataline      Play  PlayerLinenumber ActSceneLine         Player  \\\n",
       "0         1  Henry IV               1.0          NaN            NaN   \n",
       "1         2  Henry IV               1.0          NaN            NaN   \n",
       "2         3  Henry IV               1.0          NaN            NaN   \n",
       "3         4  Henry IV               1.0        1.1.1  KING HENRY IV   \n",
       "4         5  Henry IV               1.0        1.1.2  KING HENRY IV   \n",
       "\n",
       "                                          PlayerLine  \\\n",
       "0                                              ACT I   \n",
       "1                       SCENE I. London. The palace.   \n",
       "2  Enter KING HENRY, LORD JOHN OF LANCASTER, the ...   \n",
       "3             So shaken as we are, so wan with care,   \n",
       "4         Find we a time for frighted peace to pant,   \n",
       "\n",
       "                                     Play&PlayerLine  \n",
       "0                                     Henry IV ACT I  \n",
       "1              Henry IV SCENE I. London. The palace.  \n",
       "2  Henry IV Enter KING HENRY, LORD JOHN OF LANCAS...  \n",
       "3    Henry IV So shaken as we are, so wan with care,  \n",
       "4  Henry IV Find we a time for frighted peace to ...  "
      ]
     },
     "execution_count": 70,
     "metadata": {},
     "output_type": "execute_result"
    }
   ],
   "source": [
    "data_csv.head()"
   ]
  },
  {
   "cell_type": "code",
   "execution_count": 71,
   "metadata": {},
   "outputs": [
    {
     "data": {
      "text/html": [
       "<div>\n",
       "<style scoped>\n",
       "    .dataframe tbody tr th:only-of-type {\n",
       "        vertical-align: middle;\n",
       "    }\n",
       "\n",
       "    .dataframe tbody tr th {\n",
       "        vertical-align: top;\n",
       "    }\n",
       "\n",
       "    .dataframe thead th {\n",
       "        text-align: right;\n",
       "    }\n",
       "</style>\n",
       "<table border=\"1\" class=\"dataframe\">\n",
       "  <thead>\n",
       "    <tr style=\"text-align: right;\">\n",
       "      <th></th>\n",
       "      <th>Dataline</th>\n",
       "      <th>Play</th>\n",
       "      <th>PlayerLinenumber</th>\n",
       "      <th>ActSceneLine</th>\n",
       "      <th>Player</th>\n",
       "      <th>PlayerLine</th>\n",
       "      <th>Play&amp;PlayerLine</th>\n",
       "    </tr>\n",
       "  </thead>\n",
       "  <tbody>\n",
       "    <tr>\n",
       "      <th>0</th>\n",
       "      <td>1</td>\n",
       "      <td>Henry IV</td>\n",
       "      <td>1.0</td>\n",
       "      <td>NaN</td>\n",
       "      <td>NaN</td>\n",
       "      <td>ACT I</td>\n",
       "      <td>Henry IV ACT I</td>\n",
       "    </tr>\n",
       "    <tr>\n",
       "      <th>1</th>\n",
       "      <td>2</td>\n",
       "      <td>Henry IV</td>\n",
       "      <td>1.0</td>\n",
       "      <td>NaN</td>\n",
       "      <td>NaN</td>\n",
       "      <td>SCENE I. London. The palace.</td>\n",
       "      <td>Henry IV SCENE I. London. The palace.</td>\n",
       "    </tr>\n",
       "    <tr>\n",
       "      <th>2</th>\n",
       "      <td>3</td>\n",
       "      <td>Henry IV</td>\n",
       "      <td>1.0</td>\n",
       "      <td>NaN</td>\n",
       "      <td>NaN</td>\n",
       "      <td>Enter KING HENRY, LORD JOHN OF LANCASTER, the ...</td>\n",
       "      <td>Henry IV Enter KING HENRY, LORD JOHN OF LANCAS...</td>\n",
       "    </tr>\n",
       "    <tr>\n",
       "      <th>3</th>\n",
       "      <td>4</td>\n",
       "      <td>Henry IV</td>\n",
       "      <td>1.0</td>\n",
       "      <td>1.1.1</td>\n",
       "      <td>KING HENRY IV</td>\n",
       "      <td>So shaken as we are, so wan with care,</td>\n",
       "      <td>Henry IV So shaken as we are, so wan with care,</td>\n",
       "    </tr>\n",
       "    <tr>\n",
       "      <th>4</th>\n",
       "      <td>5</td>\n",
       "      <td>Henry IV</td>\n",
       "      <td>1.0</td>\n",
       "      <td>1.1.2</td>\n",
       "      <td>KING HENRY IV</td>\n",
       "      <td>Find we a time for frighted peace to pant,</td>\n",
       "      <td>Henry IV Find we a time for frighted peace to ...</td>\n",
       "    </tr>\n",
       "  </tbody>\n",
       "</table>\n",
       "</div>"
      ],
      "text/plain": [
       "   Dataline      Play  PlayerLinenumber ActSceneLine         Player  \\\n",
       "0         1  Henry IV               1.0          NaN            NaN   \n",
       "1         2  Henry IV               1.0          NaN            NaN   \n",
       "2         3  Henry IV               1.0          NaN            NaN   \n",
       "3         4  Henry IV               1.0        1.1.1  KING HENRY IV   \n",
       "4         5  Henry IV               1.0        1.1.2  KING HENRY IV   \n",
       "\n",
       "                                          PlayerLine  \\\n",
       "0                                              ACT I   \n",
       "1                       SCENE I. London. The palace.   \n",
       "2  Enter KING HENRY, LORD JOHN OF LANCASTER, the ...   \n",
       "3             So shaken as we are, so wan with care,   \n",
       "4         Find we a time for frighted peace to pant,   \n",
       "\n",
       "                                     Play&PlayerLine  \n",
       "0                                     Henry IV ACT I  \n",
       "1              Henry IV SCENE I. London. The palace.  \n",
       "2  Henry IV Enter KING HENRY, LORD JOHN OF LANCAS...  \n",
       "3    Henry IV So shaken as we are, so wan with care,  \n",
       "4  Henry IV Find we a time for frighted peace to ...  "
      ]
     },
     "execution_count": 71,
     "metadata": {},
     "output_type": "execute_result"
    }
   ],
   "source": [
    "data_csv.head()"
   ]
  },
  {
   "cell_type": "code",
   "execution_count": 72,
   "metadata": {},
   "outputs": [],
   "source": [
    "# data_X = "
   ]
  },
  {
   "cell_type": "code",
   "execution_count": 73,
   "metadata": {},
   "outputs": [],
   "source": [
    "from sklearn.model_selection import train_test_split\n",
    "X_train, X_test, y_train, y_test = train_test_split(data_csv.loc[:,'Play':'PlayerLinenumber'], data_csv['Player'], test_size = 0.2, random_state = 42)"
   ]
  },
  {
   "cell_type": "code",
   "execution_count": 74,
   "metadata": {},
   "outputs": [
    {
     "data": {
      "text/plain": [
       "(89116, 2)"
      ]
     },
     "execution_count": 74,
     "metadata": {},
     "output_type": "execute_result"
    }
   ],
   "source": [
    "X_train.shape"
   ]
  },
  {
   "cell_type": "code",
   "execution_count": 75,
   "metadata": {},
   "outputs": [
    {
     "data": {
      "text/plain": [
       "(22280, 2)"
      ]
     },
     "execution_count": 75,
     "metadata": {},
     "output_type": "execute_result"
    }
   ],
   "source": [
    "X_test.shape"
   ]
  },
  {
   "cell_type": "code",
   "execution_count": 76,
   "metadata": {},
   "outputs": [
    {
     "data": {
      "text/plain": [
       "0.7999928184135876"
      ]
     },
     "execution_count": 76,
     "metadata": {},
     "output_type": "execute_result"
    }
   ],
   "source": [
    "X_train.shape[0] / (X_train.shape[0] + X_test.shape[0])"
   ]
  },
  {
   "cell_type": "code",
   "execution_count": 77,
   "metadata": {},
   "outputs": [],
   "source": [
    "from sklearn.svm import LinearSVC\n",
    "from sklearn.pipeline import make_pipeline\n",
    "from sklearn.preprocessing import StandardScaler\n",
    "from sklearn.datasets import make_classification"
   ]
  },
  {
   "cell_type": "code",
   "execution_count": 78,
   "metadata": {},
   "outputs": [],
   "source": [
    "df = data_csv.copy()"
   ]
  },
  {
   "cell_type": "code",
   "execution_count": 79,
   "metadata": {},
   "outputs": [],
   "source": [
    "df['Play'] = df['Play'].astype('category') "
   ]
  },
  {
   "cell_type": "code",
   "execution_count": 80,
   "metadata": {},
   "outputs": [],
   "source": [
    "df['Player'] = df['Player'].astype('category')"
   ]
  },
  {
   "cell_type": "code",
   "execution_count": 81,
   "metadata": {},
   "outputs": [],
   "source": [
    "df['PlayerLineCount'] = df['PlayerLine'].apply(lambda x:len(x.split(' ')))"
   ]
  },
  {
   "cell_type": "code",
   "execution_count": 82,
   "metadata": {},
   "outputs": [],
   "source": [
    "df['Play&PlayerLineCount'] = df['Play&PlayerLine'].apply(lambda x:len(x.split(' ')))"
   ]
  },
  {
   "cell_type": "code",
   "execution_count": 83,
   "metadata": {},
   "outputs": [],
   "source": [
    "df.drop(['PlayerLine','Play&PlayerLine','ActSceneLine','Dataline'], axis=1, inplace=True)"
   ]
  },
  {
   "cell_type": "code",
   "execution_count": 84,
   "metadata": {},
   "outputs": [
    {
     "data": {
      "text/html": [
       "<div>\n",
       "<style scoped>\n",
       "    .dataframe tbody tr th:only-of-type {\n",
       "        vertical-align: middle;\n",
       "    }\n",
       "\n",
       "    .dataframe tbody tr th {\n",
       "        vertical-align: top;\n",
       "    }\n",
       "\n",
       "    .dataframe thead th {\n",
       "        text-align: right;\n",
       "    }\n",
       "</style>\n",
       "<table border=\"1\" class=\"dataframe\">\n",
       "  <thead>\n",
       "    <tr style=\"text-align: right;\">\n",
       "      <th></th>\n",
       "      <th>index</th>\n",
       "      <th>Play</th>\n",
       "      <th>PlayerLinenumber</th>\n",
       "      <th>Player</th>\n",
       "      <th>PlayerLineCount</th>\n",
       "      <th>Play&amp;PlayerLineCount</th>\n",
       "    </tr>\n",
       "  </thead>\n",
       "  <tbody>\n",
       "    <tr>\n",
       "      <th>0</th>\n",
       "      <td>0</td>\n",
       "      <td>Henry IV</td>\n",
       "      <td>1.0</td>\n",
       "      <td>NaN</td>\n",
       "      <td>2</td>\n",
       "      <td>4</td>\n",
       "    </tr>\n",
       "    <tr>\n",
       "      <th>1</th>\n",
       "      <td>1</td>\n",
       "      <td>Henry IV</td>\n",
       "      <td>1.0</td>\n",
       "      <td>NaN</td>\n",
       "      <td>5</td>\n",
       "      <td>7</td>\n",
       "    </tr>\n",
       "    <tr>\n",
       "      <th>2</th>\n",
       "      <td>2</td>\n",
       "      <td>Henry IV</td>\n",
       "      <td>1.0</td>\n",
       "      <td>NaN</td>\n",
       "      <td>16</td>\n",
       "      <td>18</td>\n",
       "    </tr>\n",
       "    <tr>\n",
       "      <th>3</th>\n",
       "      <td>3</td>\n",
       "      <td>Henry IV</td>\n",
       "      <td>1.0</td>\n",
       "      <td>KING HENRY IV</td>\n",
       "      <td>9</td>\n",
       "      <td>11</td>\n",
       "    </tr>\n",
       "    <tr>\n",
       "      <th>4</th>\n",
       "      <td>4</td>\n",
       "      <td>Henry IV</td>\n",
       "      <td>1.0</td>\n",
       "      <td>KING HENRY IV</td>\n",
       "      <td>9</td>\n",
       "      <td>11</td>\n",
       "    </tr>\n",
       "    <tr>\n",
       "      <th>...</th>\n",
       "      <td>...</td>\n",
       "      <td>...</td>\n",
       "      <td>...</td>\n",
       "      <td>...</td>\n",
       "      <td>...</td>\n",
       "      <td>...</td>\n",
       "    </tr>\n",
       "    <tr>\n",
       "      <th>111391</th>\n",
       "      <td>111391</td>\n",
       "      <td>A Winters Tale</td>\n",
       "      <td>38.0</td>\n",
       "      <td>LEONTES</td>\n",
       "      <td>8</td>\n",
       "      <td>11</td>\n",
       "    </tr>\n",
       "    <tr>\n",
       "      <th>111392</th>\n",
       "      <td>111392</td>\n",
       "      <td>A Winters Tale</td>\n",
       "      <td>38.0</td>\n",
       "      <td>LEONTES</td>\n",
       "      <td>8</td>\n",
       "      <td>11</td>\n",
       "    </tr>\n",
       "    <tr>\n",
       "      <th>111393</th>\n",
       "      <td>111393</td>\n",
       "      <td>A Winters Tale</td>\n",
       "      <td>38.0</td>\n",
       "      <td>LEONTES</td>\n",
       "      <td>9</td>\n",
       "      <td>12</td>\n",
       "    </tr>\n",
       "    <tr>\n",
       "      <th>111394</th>\n",
       "      <td>111394</td>\n",
       "      <td>A Winters Tale</td>\n",
       "      <td>38.0</td>\n",
       "      <td>LEONTES</td>\n",
       "      <td>6</td>\n",
       "      <td>9</td>\n",
       "    </tr>\n",
       "    <tr>\n",
       "      <th>111395</th>\n",
       "      <td>111395</td>\n",
       "      <td>A Winters Tale</td>\n",
       "      <td>38.0</td>\n",
       "      <td>LEONTES</td>\n",
       "      <td>1</td>\n",
       "      <td>4</td>\n",
       "    </tr>\n",
       "  </tbody>\n",
       "</table>\n",
       "<p>111396 rows × 6 columns</p>\n",
       "</div>"
      ],
      "text/plain": [
       "         index            Play  PlayerLinenumber         Player  \\\n",
       "0            0        Henry IV               1.0            NaN   \n",
       "1            1        Henry IV               1.0            NaN   \n",
       "2            2        Henry IV               1.0            NaN   \n",
       "3            3        Henry IV               1.0  KING HENRY IV   \n",
       "4            4        Henry IV               1.0  KING HENRY IV   \n",
       "...        ...             ...               ...            ...   \n",
       "111391  111391  A Winters Tale              38.0        LEONTES   \n",
       "111392  111392  A Winters Tale              38.0        LEONTES   \n",
       "111393  111393  A Winters Tale              38.0        LEONTES   \n",
       "111394  111394  A Winters Tale              38.0        LEONTES   \n",
       "111395  111395  A Winters Tale              38.0        LEONTES   \n",
       "\n",
       "        PlayerLineCount  Play&PlayerLineCount  \n",
       "0                     2                     4  \n",
       "1                     5                     7  \n",
       "2                    16                    18  \n",
       "3                     9                    11  \n",
       "4                     9                    11  \n",
       "...                 ...                   ...  \n",
       "111391                8                    11  \n",
       "111392                8                    11  \n",
       "111393                9                    12  \n",
       "111394                6                     9  \n",
       "111395                1                     4  \n",
       "\n",
       "[111396 rows x 6 columns]"
      ]
     },
     "execution_count": 84,
     "metadata": {},
     "output_type": "execute_result"
    }
   ],
   "source": [
    "df.reset_index()"
   ]
  },
  {
   "cell_type": "code",
   "execution_count": 85,
   "metadata": {},
   "outputs": [],
   "source": [
    "df = df.dropna()"
   ]
  },
  {
   "cell_type": "code",
   "execution_count": 86,
   "metadata": {},
   "outputs": [
    {
     "data": {
      "text/html": [
       "<div>\n",
       "<style scoped>\n",
       "    .dataframe tbody tr th:only-of-type {\n",
       "        vertical-align: middle;\n",
       "    }\n",
       "\n",
       "    .dataframe tbody tr th {\n",
       "        vertical-align: top;\n",
       "    }\n",
       "\n",
       "    .dataframe thead th {\n",
       "        text-align: right;\n",
       "    }\n",
       "</style>\n",
       "<table border=\"1\" class=\"dataframe\">\n",
       "  <thead>\n",
       "    <tr style=\"text-align: right;\">\n",
       "      <th></th>\n",
       "      <th>Play</th>\n",
       "      <th>PlayerLinenumber</th>\n",
       "      <th>Player</th>\n",
       "      <th>PlayerLineCount</th>\n",
       "      <th>Play&amp;PlayerLineCount</th>\n",
       "    </tr>\n",
       "  </thead>\n",
       "  <tbody>\n",
       "    <tr>\n",
       "      <th>3</th>\n",
       "      <td>Henry IV</td>\n",
       "      <td>1.0</td>\n",
       "      <td>KING HENRY IV</td>\n",
       "      <td>9</td>\n",
       "      <td>11</td>\n",
       "    </tr>\n",
       "    <tr>\n",
       "      <th>4</th>\n",
       "      <td>Henry IV</td>\n",
       "      <td>1.0</td>\n",
       "      <td>KING HENRY IV</td>\n",
       "      <td>9</td>\n",
       "      <td>11</td>\n",
       "    </tr>\n",
       "    <tr>\n",
       "      <th>5</th>\n",
       "      <td>Henry IV</td>\n",
       "      <td>1.0</td>\n",
       "      <td>KING HENRY IV</td>\n",
       "      <td>7</td>\n",
       "      <td>9</td>\n",
       "    </tr>\n",
       "    <tr>\n",
       "      <th>6</th>\n",
       "      <td>Henry IV</td>\n",
       "      <td>1.0</td>\n",
       "      <td>KING HENRY IV</td>\n",
       "      <td>7</td>\n",
       "      <td>9</td>\n",
       "    </tr>\n",
       "    <tr>\n",
       "      <th>7</th>\n",
       "      <td>Henry IV</td>\n",
       "      <td>1.0</td>\n",
       "      <td>KING HENRY IV</td>\n",
       "      <td>8</td>\n",
       "      <td>10</td>\n",
       "    </tr>\n",
       "    <tr>\n",
       "      <th>...</th>\n",
       "      <td>...</td>\n",
       "      <td>...</td>\n",
       "      <td>...</td>\n",
       "      <td>...</td>\n",
       "      <td>...</td>\n",
       "    </tr>\n",
       "    <tr>\n",
       "      <th>111391</th>\n",
       "      <td>A Winters Tale</td>\n",
       "      <td>38.0</td>\n",
       "      <td>LEONTES</td>\n",
       "      <td>8</td>\n",
       "      <td>11</td>\n",
       "    </tr>\n",
       "    <tr>\n",
       "      <th>111392</th>\n",
       "      <td>A Winters Tale</td>\n",
       "      <td>38.0</td>\n",
       "      <td>LEONTES</td>\n",
       "      <td>8</td>\n",
       "      <td>11</td>\n",
       "    </tr>\n",
       "    <tr>\n",
       "      <th>111393</th>\n",
       "      <td>A Winters Tale</td>\n",
       "      <td>38.0</td>\n",
       "      <td>LEONTES</td>\n",
       "      <td>9</td>\n",
       "      <td>12</td>\n",
       "    </tr>\n",
       "    <tr>\n",
       "      <th>111394</th>\n",
       "      <td>A Winters Tale</td>\n",
       "      <td>38.0</td>\n",
       "      <td>LEONTES</td>\n",
       "      <td>6</td>\n",
       "      <td>9</td>\n",
       "    </tr>\n",
       "    <tr>\n",
       "      <th>111395</th>\n",
       "      <td>A Winters Tale</td>\n",
       "      <td>38.0</td>\n",
       "      <td>LEONTES</td>\n",
       "      <td>1</td>\n",
       "      <td>4</td>\n",
       "    </tr>\n",
       "  </tbody>\n",
       "</table>\n",
       "<p>111389 rows × 5 columns</p>\n",
       "</div>"
      ],
      "text/plain": [
       "                  Play  PlayerLinenumber         Player  PlayerLineCount  \\\n",
       "3             Henry IV               1.0  KING HENRY IV                9   \n",
       "4             Henry IV               1.0  KING HENRY IV                9   \n",
       "5             Henry IV               1.0  KING HENRY IV                7   \n",
       "6             Henry IV               1.0  KING HENRY IV                7   \n",
       "7             Henry IV               1.0  KING HENRY IV                8   \n",
       "...                ...               ...            ...              ...   \n",
       "111391  A Winters Tale              38.0        LEONTES                8   \n",
       "111392  A Winters Tale              38.0        LEONTES                8   \n",
       "111393  A Winters Tale              38.0        LEONTES                9   \n",
       "111394  A Winters Tale              38.0        LEONTES                6   \n",
       "111395  A Winters Tale              38.0        LEONTES                1   \n",
       "\n",
       "        Play&PlayerLineCount  \n",
       "3                         11  \n",
       "4                         11  \n",
       "5                          9  \n",
       "6                          9  \n",
       "7                         10  \n",
       "...                      ...  \n",
       "111391                    11  \n",
       "111392                    11  \n",
       "111393                    12  \n",
       "111394                     9  \n",
       "111395                     4  \n",
       "\n",
       "[111389 rows x 5 columns]"
      ]
     },
     "execution_count": 86,
     "metadata": {},
     "output_type": "execute_result"
    }
   ],
   "source": [
    "df"
   ]
  },
  {
   "cell_type": "code",
   "execution_count": 95,
   "metadata": {},
   "outputs": [],
   "source": [
    "labels = df['Play'].astype('category').cat.categories.tolist()"
   ]
  },
  {
   "cell_type": "code",
   "execution_count": 96,
   "metadata": {},
   "outputs": [],
   "source": [
    "mapper = {'Play' : {k: v for k,v in zip(labels,list(range(1,len(labels)+1)))}}"
   ]
  },
  {
   "cell_type": "code",
   "execution_count": 97,
   "metadata": {},
   "outputs": [],
   "source": [
    "df.replace(mapper,inplace=True)"
   ]
  },
  {
   "cell_type": "code",
   "execution_count": 98,
   "metadata": {},
   "outputs": [],
   "source": [
    "y = df['Player']"
   ]
  },
  {
   "cell_type": "code",
   "execution_count": 99,
   "metadata": {},
   "outputs": [],
   "source": [
    "X = df.drop('Player',axis=1)"
   ]
  },
  {
   "cell_type": "code",
   "execution_count": 100,
   "metadata": {},
   "outputs": [],
   "source": [
    "X_train, X_test, y_train, y_test = train_test_split(X, y, test_size = 0.2, random_state = 42)"
   ]
  },
  {
   "cell_type": "code",
   "execution_count": 101,
   "metadata": {},
   "outputs": [],
   "source": [
    "clf = LinearSVC(random_state=0, tol=1e-5)"
   ]
  },
  {
   "cell_type": "code",
   "execution_count": null,
   "metadata": {},
   "outputs": [],
   "source": [
    "clf.fit(X_train,y_train)"
   ]
  },
  {
   "cell_type": "code",
   "execution_count": null,
   "metadata": {},
   "outputs": [],
   "source": []
  }
 ],
 "metadata": {
  "kernelspec": {
   "display_name": "Python 3",
   "language": "python",
   "name": "python3"
  },
  "language_info": {
   "codemirror_mode": {
    "name": "ipython",
    "version": 3
   },
   "file_extension": ".py",
   "mimetype": "text/x-python",
   "name": "python",
   "nbconvert_exporter": "python",
   "pygments_lexer": "ipython3",
   "version": "3.8.3"
  }
 },
 "nbformat": 4,
 "nbformat_minor": 4
}
